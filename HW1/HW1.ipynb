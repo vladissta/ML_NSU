{
 "cells": [
  {
   "cell_type": "markdown",
   "id": "1c365ec6-d910-453d-baec-6c53e63b0837",
   "metadata": {},
   "source": [
    "# 1) Вспомнить всё: if"
   ]
  },
  {
   "cell_type": "code",
   "execution_count": 2,
   "id": "9929f57d-1488-4a56-aa6a-68f03ddaf8af",
   "metadata": {},
   "outputs": [
    {
     "name": "stdin",
     "output_type": "stream",
     "text": [
      "Введите температуру:  35\n"
     ]
    },
    {
     "name": "stdout",
     "output_type": "stream",
     "text": [
      "ЖАРКО\n"
     ]
    }
   ],
   "source": [
    "t = float(input('Введите температуру: '))\n",
    "if t < 15.5:\n",
    "    print(\"ХОЛОДНО\")\n",
    "elif t > 28:\n",
    "    print(\"ЖАРКО\")\n",
    "else:\n",
    "    print('НОРМАЛЬНО')"
   ]
  },
  {
   "cell_type": "markdown",
   "id": "6affa3a2-0afe-4041-acc5-b11ca17d2e88",
   "metadata": {},
   "source": [
    "# 2) Найди кота"
   ]
  },
  {
   "cell_type": "code",
   "execution_count": 10,
   "id": "a4d3a3f1-a848-4c45-94f3-59f8694aefd7",
   "metadata": {},
   "outputs": [
    {
     "name": "stdin",
     "output_type": "stream",
     "text": [
      "Количество строк:  45\n",
      " ыап\n",
      " рпер\n",
      " кот\n"
     ]
    },
    {
     "name": "stdout",
     "output_type": "stream",
     "text": [
      "МЯУ\n"
     ]
    }
   ],
   "source": [
    "n = int(input('Количество строк: '))\n",
    "\n",
    "for _ in range(n):\n",
    "    line = input().lower()\n",
    "    if line.find('кот') != -1:\n",
    "        print('МЯУ')\n",
    "        break\n",
    "else:\n",
    "    print('НЕТ')\n",
    "    "
   ]
  },
  {
   "cell_type": "markdown",
   "id": "c0134656-5427-4794-a089-012a540cc92a",
   "metadata": {},
   "source": [
    "# 3) Слова и буквы"
   ]
  },
  {
   "cell_type": "code",
   "execution_count": 21,
   "id": "ee7e5c28-fb07-4bcf-9902-26171e0a596e",
   "metadata": {},
   "outputs": [
    {
     "name": "stdin",
     "output_type": "stream",
     "text": [
      " чечевица\n",
      " светопреставление\n",
      " престол\n",
      " стоп\n"
     ]
    },
    {
     "name": "stdout",
     "output_type": "stream",
     "text": [
      "ДА\n"
     ]
    }
   ],
   "source": [
    "long = ''\n",
    "short = input()\n",
    "word = input()\n",
    "while word != 'стоп':\n",
    "    if len(word) > len(long):\n",
    "        long = word\n",
    "    elif len(word) < len(short):\n",
    "        short = word\n",
    "    word = input()\n",
    "\n",
    "if set(short).issubset(set(long)):\n",
    "    print(\"ДА\")\n",
    "else:\n",
    "    print(\"НЕТ\")"
   ]
  },
  {
   "cell_type": "markdown",
   "id": "b101ebb9-2916-41b6-b66e-f49c09e31999",
   "metadata": {},
   "source": [
    "# 4) Список покупок"
   ]
  },
  {
   "cell_type": "code",
   "execution_count": 23,
   "id": "cbe3662f-be13-4c97-8515-e5dcd1a1daca",
   "metadata": {},
   "outputs": [
    {
     "name": "stdin",
     "output_type": "stream",
     "text": [
      "Количество покупок:  4\n",
      " картину\n",
      " корзину\n",
      " картон\n",
      " маленькая собака\n"
     ]
    },
    {
     "name": "stdout",
     "output_type": "stream",
     "text": [
      "картину\n",
      "корзину\n",
      "картон\n",
      "маленькая собака\n"
     ]
    }
   ],
   "source": [
    "n = int(input('Количество покупок: '))\n",
    "buylist = list()\n",
    "for _ in range(n):\n",
    "    buylist.append(input())\n",
    "\n",
    "print('\\n'.join(buylist))"
   ]
  },
  {
   "cell_type": "markdown",
   "id": "e7825347-eb8a-41a8-832c-65c5cb687285",
   "metadata": {},
   "source": [
    "# 5) Ххооллоодд"
   ]
  },
  {
   "cell_type": "code",
   "execution_count": 24,
   "id": "ad07ee7c-86df-411e-9326-e40476d7aa60",
   "metadata": {},
   "outputs": [
    {
     "name": "stdin",
     "output_type": "stream",
     "text": [
      " холод\n"
     ]
    },
    {
     "name": "stdout",
     "output_type": "stream",
     "text": [
      "ххооллоодд"
     ]
    }
   ],
   "source": [
    "word = input()\n",
    "\n",
    "for letter in word:\n",
    "    print(letter*2, end='')"
   ]
  },
  {
   "cell_type": "markdown",
   "id": "e411376e-0384-4213-a321-738fb1469a64",
   "metadata": {},
   "source": [
    "# 6) Формальное приветствие"
   ]
  },
  {
   "cell_type": "code",
   "execution_count": 25,
   "id": "d0ee45c3-cec8-4b21-a843-1d368b6deb53",
   "metadata": {},
   "outputs": [],
   "source": [
    "def greet():\n",
    "    name = input('Напишите ваше имя ')\n",
    "    last_name = input('Напишите вашу фамилию ')\n",
    "    print(f\"Здравствуйте, {name} {last_name}\")"
   ]
  },
  {
   "cell_type": "code",
   "execution_count": 26,
   "id": "5d47783d-be83-40f6-84d0-932489d0468b",
   "metadata": {},
   "outputs": [
    {
     "name": "stdin",
     "output_type": "stream",
     "text": [
      "Напишите ваше имя  Влад\n",
      "Напишите вашу фамилию  Станин\n"
     ]
    },
    {
     "name": "stdout",
     "output_type": "stream",
     "text": [
      "Здравствуйте, Влад Станин\n"
     ]
    }
   ],
   "source": [
    "greet()"
   ]
  },
  {
   "cell_type": "markdown",
   "id": "60e7f5ca-0af6-4cde-b8c5-22c0b5717b8b",
   "metadata": {},
   "source": [
    "# 7*) Маленький колокольчик"
   ]
  },
  {
   "cell_type": "code",
   "execution_count": 31,
   "id": "c48b974c-93a8-40f6-ae75-7aa8f0651bfe",
   "metadata": {},
   "outputs": [],
   "source": [
    "class LittleBell:\n",
    "\n",
    "    def sound(self):\n",
    "        print('ding')"
   ]
  },
  {
   "cell_type": "code",
   "execution_count": 32,
   "id": "2cee225c-6446-4b19-9365-2d2ea7aea174",
   "metadata": {},
   "outputs": [
    {
     "name": "stdout",
     "output_type": "stream",
     "text": [
      "ding\n",
      "ding\n",
      "ding\n"
     ]
    }
   ],
   "source": [
    "bell = LittleBell()\n",
    "\n",
    "bell.sound()\n",
    "bell.sound()\n",
    "bell.sound()"
   ]
  },
  {
   "cell_type": "code",
   "execution_count": null,
   "id": "90361538-e250-4c4b-8678-427a1f2c4062",
   "metadata": {},
   "outputs": [],
   "source": []
  }
 ],
 "metadata": {
  "kernelspec": {
   "display_name": "Python 3 (ipykernel)",
   "language": "python",
   "name": "python3"
  },
  "language_info": {
   "codemirror_mode": {
    "name": "ipython",
    "version": 3
   },
   "file_extension": ".py",
   "mimetype": "text/x-python",
   "name": "python",
   "nbconvert_exporter": "python",
   "pygments_lexer": "ipython3",
   "version": "3.11.6"
  }
 },
 "nbformat": 4,
 "nbformat_minor": 5
}
