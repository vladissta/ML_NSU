{
 "cells": [
  {
   "cell_type": "markdown",
   "id": "706b9c9b-5cdb-44ea-876d-9fbf9e4f9d98",
   "metadata": {},
   "source": [
    "# 1. Сортировка в обратном порядке"
   ]
  },
  {
   "cell_type": "code",
   "execution_count": 3,
   "id": "bf06fb67-becd-496a-8025-4e678f85f27f",
   "metadata": {},
   "outputs": [
    {
     "name": "stdin",
     "output_type": "stream",
     "text": [
      "Number of numbers:  3\n",
      " 1\n",
      " 2\n",
      " 3\n"
     ]
    },
    {
     "name": "stdout",
     "output_type": "stream",
     "text": [
      "3 2 1\n"
     ]
    }
   ],
   "source": [
    "n = int(input(\"Number of numbers: \"))\n",
    "print(' '.join(\n",
    "    map(\n",
    "        str, sorted([int(input()) for _ in range(n)])[::-1])\n",
    "        )\n",
    "     )"
   ]
  },
  {
   "cell_type": "markdown",
   "id": "df8f66ab-c554-40ee-af67-3349f4ae0944",
   "metadata": {},
   "source": [
    "# 2. Фильтр"
   ]
  },
  {
   "cell_type": "code",
   "execution_count": 7,
   "id": "3f612d78-8e40-4ebd-ba3a-a8a69ab8af32",
   "metadata": {},
   "outputs": [
    {
     "name": "stdin",
     "output_type": "stream",
     "text": [
      "Number of lines:  3\n",
      " SVO TRS 29481292\n",
      " %%LJPZ DME 11113283675\n",
      " ####&%^^^^\n"
     ]
    },
    {
     "name": "stdout",
     "output_type": "stream",
     "text": [
      "Output:\n",
      " SVO TRS 29481292\n",
      "LJPZ DME 11113283675\n"
     ]
    }
   ],
   "source": [
    "n = int(input(\"Number of lines: \"))\n",
    "lines = list()\n",
    "for _ in range(n):\n",
    "    line = input()\n",
    "    if line.startswith('####'):\n",
    "        continue\n",
    "    lines.append(line.removeprefix('%%'))\n",
    "\n",
    "print(\"Output:\\n\", '\\n'.join(lines))"
   ]
  },
  {
   "cell_type": "markdown",
   "id": "4a737a2a-7b7d-4853-872e-240c18b1b2d1",
   "metadata": {},
   "source": [
    "# 3. От и до"
   ]
  },
  {
   "cell_type": "code",
   "execution_count": 8,
   "id": "b66520a5-c669-4364-a791-e6a498420863",
   "metadata": {},
   "outputs": [
    {
     "name": "stdin",
     "output_type": "stream",
     "text": [
      "Number of numbers:  5\n",
      " 100\n",
      " 222\n",
      " 300\n",
      " 444\n",
      " 500\n",
      " 2\n",
      " 4\n"
     ]
    },
    {
     "name": "stdout",
     "output_type": "stream",
     "text": [
      "966\n"
     ]
    }
   ],
   "source": [
    "n = int(input(\"Number of numbers: \"))\n",
    "numbers = [int(input()) for _ in range(n)]\n",
    "p = int(input())\n",
    "q = int(input())\n",
    "summ = 0\n",
    "\n",
    "for el in range(n):\n",
    "    if el == p - 1:\n",
    "        for i in range(q - p + 1):\n",
    "            summ += numbers[el + i]\n",
    "        break\n",
    "\n",
    "print(summ)"
   ]
  },
  {
   "cell_type": "markdown",
   "id": "0535c2c3-6d6b-4410-8df4-3fadc62703e9",
   "metadata": {},
   "source": [
    "# 4. Список отличников"
   ]
  },
  {
   "cell_type": "code",
   "execution_count": 9,
   "id": "0397619d-e6c6-4589-8a95-c05ff9406820",
   "metadata": {},
   "outputs": [],
   "source": [
    "def artek(s, n):\n",
    "    marks_dict = dict(map(lambda x: x.split(), s.split(', ')))\n",
    "    excellent_students = [name for name in marks_dict if marks_dict[name] == '5']\n",
    "\n",
    "    return \", \".join(sorted(excellent_students)[:n])"
   ]
  },
  {
   "cell_type": "code",
   "execution_count": 10,
   "id": "b33bfd2b-0f99-4b8c-a9ec-c5bad8bfc841",
   "metadata": {},
   "outputs": [],
   "source": [
    "s = \"Сидоров 3, Смирнова 5, Самойкин 4, Емельянов 2, Кац 5, Вдовиченко 5, Северин 4, Субботкин 5\""
   ]
  },
  {
   "cell_type": "code",
   "execution_count": 11,
   "id": "c62a4397-1cde-45a0-9b26-d181deaefe20",
   "metadata": {},
   "outputs": [
    {
     "data": {
      "text/plain": [
       "'Вдовиченко, Кац, Смирнова'"
      ]
     },
     "execution_count": 11,
     "metadata": {},
     "output_type": "execute_result"
    }
   ],
   "source": [
    "artek(s, 3)"
   ]
  },
  {
   "cell_type": "markdown",
   "id": "f883a3d9-97a8-4b77-ac35-8337408d7626",
   "metadata": {},
   "source": [
    "# 5. Пароль (*)"
   ]
  },
  {
   "cell_type": "code",
   "execution_count": 40,
   "id": "0d4c46e5-b965-4421-82eb-5144c76dfb7e",
   "metadata": {},
   "outputs": [],
   "source": [
    "import re\n",
    "import string\n",
    "from operator import xor"
   ]
  },
  {
   "cell_type": "code",
   "execution_count": null,
   "id": "215ae148-4496-48ec-b90a-f4b777d13df1",
   "metadata": {},
   "outputs": [],
   "source": []
  },
  {
   "cell_type": "code",
   "execution_count": 38,
   "id": "9b496eb4-6472-41e6-bd70-26ce1120a091",
   "metadata": {},
   "outputs": [
    {
     "data": {
      "text/plain": [
       "[]"
      ]
     },
     "execution_count": 38,
     "metadata": {},
     "output_type": "execute_result"
    }
   ],
   "source": [
    "password = 'agaggdgdg3333'\n",
    "# password.isdigit()\n",
    "re.findall(r'[A-Z]', password)"
   ]
  },
  {
   "cell_type": "code",
   "execution_count": 59,
   "id": "f6e521d8-6e41-4c01-9107-7fc086d0a84d",
   "metadata": {},
   "outputs": [],
   "source": [
    "def password_confirm():\n",
    "\n",
    "    while True:\n",
    "\n",
    "        password = input('Введите пароль (или напишите \"q\" для выхода): ') \n",
    "\n",
    "        if password == 'q':\n",
    "            print('Выход произведён.')\n",
    "            return\n",
    "        \n",
    "        if len(password) < 8:\n",
    "            print(\"Недопустимый пароль\")\n",
    "            print(\"Длина пароля должна быть от 8 символов\")\n",
    "            continue\n",
    "    \n",
    "        # if len(re.findall(r'[A-zА-Я]', password)) == len(password) or \\\n",
    "        #     len(re.findall(r'[a-zа-я]', password)) == len(password) or \\\n",
    "        if (password.islower() or password.isupper()) and not re.search(r'[0-9]', password) or \\\n",
    "            password.isdigit():\n",
    "            print(\"Ненадежный пароль\")\n",
    "            print(\"Пароль должен содержать цифры, буквы разного регистра и хотя бы один спец. символ\")\n",
    "            continue\n",
    "    \n",
    "        if password.isalpha() or \\\n",
    "             ((len(re.findall(r'[A-ZА-Я]', password)) > 0) ^ \\\n",
    "                (len(re.findall(r'[a-zа-я]', password))  > 0)) and \\\n",
    "                re.search(r'[0-9]', password):\n",
    "            print('Слабый пароль')\n",
    "            print(\"Пароль должен содержать цифры, буквы разного регистра и хотя бы один спец. символ\")\n",
    "            continue\n",
    "    \n",
    "        if len(set(password).intersection(string.punctuation)) != 0:\n",
    "            print('Надежный пароль')\n",
    "            print('Пароль подтвержден')\n",
    "            return password\n",
    "        else: \n",
    "            print('Нужен хотя бы один спец. символ!')"
   ]
  },
  {
   "cell_type": "code",
   "execution_count": 61,
   "id": "9e128ac3-2732-417c-bff0-ba587f3fddc1",
   "metadata": {},
   "outputs": [
    {
     "name": "stdin",
     "output_type": "stream",
     "text": [
      "Введите пароль (или напишите \"q\" для выхода):  666666\n"
     ]
    },
    {
     "name": "stdout",
     "output_type": "stream",
     "text": [
      "Недопустимый пароль\n",
      "Длина пароля должна быть от 8 символов\n"
     ]
    },
    {
     "name": "stdin",
     "output_type": "stream",
     "text": [
      "Введите пароль (или напишите \"q\" для выхода):  6666663663636\n"
     ]
    },
    {
     "name": "stdout",
     "output_type": "stream",
     "text": [
      "Ненадежный пароль\n",
      "Пароль должен содержать цифры, буквы разного регистра и хотя бы один спец. символ\n"
     ]
    },
    {
     "name": "stdin",
     "output_type": "stream",
     "text": [
      "Введите пароль (или напишите \"q\" для выхода):  GGGGGG7777777\n"
     ]
    },
    {
     "name": "stdout",
     "output_type": "stream",
     "text": [
      "Слабый пароль\n",
      "Пароль должен содержать цифры, буквы разного регистра и хотя бы один спец. символ\n"
     ]
    },
    {
     "name": "stdin",
     "output_type": "stream",
     "text": [
      "Введите пароль (или напишите \"q\" для выхода):  gggggg777777\n"
     ]
    },
    {
     "name": "stdout",
     "output_type": "stream",
     "text": [
      "Слабый пароль\n",
      "Пароль должен содержать цифры, буквы разного регистра и хотя бы один спец. символ\n"
     ]
    },
    {
     "name": "stdin",
     "output_type": "stream",
     "text": [
      "Введите пароль (или напишите \"q\" для выхода):  gggggggGGGGGG\n"
     ]
    },
    {
     "name": "stdout",
     "output_type": "stream",
     "text": [
      "Слабый пароль\n",
      "Пароль должен содержать цифры, буквы разного регистра и хотя бы один спец. символ\n"
     ]
    },
    {
     "name": "stdin",
     "output_type": "stream",
     "text": [
      "Введите пароль (или напишите \"q\" для выхода):  GGGGGGGGGGG\n"
     ]
    },
    {
     "name": "stdout",
     "output_type": "stream",
     "text": [
      "Ненадежный пароль\n",
      "Пароль должен содержать цифры, буквы разного регистра и хотя бы один спец. символ\n"
     ]
    },
    {
     "name": "stdin",
     "output_type": "stream",
     "text": [
      "Введите пароль (или напишите \"q\" для выхода):  ggggggggg\n"
     ]
    },
    {
     "name": "stdout",
     "output_type": "stream",
     "text": [
      "Ненадежный пароль\n",
      "Пароль должен содержать цифры, буквы разного регистра и хотя бы один спец. символ\n"
     ]
    },
    {
     "name": "stdin",
     "output_type": "stream",
     "text": [
      "Введите пароль (или напишите \"q\" для выхода):  GGGGGG777777gggg\n"
     ]
    },
    {
     "name": "stdout",
     "output_type": "stream",
     "text": [
      "Нужен хотя бы один спец. символ!\n"
     ]
    },
    {
     "name": "stdin",
     "output_type": "stream",
     "text": [
      "Введите пароль (или напишите \"q\" для выхода):  gggggGGGGG6666&&&\n"
     ]
    },
    {
     "name": "stdout",
     "output_type": "stream",
     "text": [
      "Надежный пароль\n",
      "Пароль подтвержден\n"
     ]
    },
    {
     "data": {
      "text/plain": [
       "'gggggGGGGG6666&&&'"
      ]
     },
     "execution_count": 61,
     "metadata": {},
     "output_type": "execute_result"
    }
   ],
   "source": [
    "password_confirm()"
   ]
  },
  {
   "cell_type": "code",
   "execution_count": null,
   "id": "d226ef51-50ff-4a99-b321-d173f5bbedcf",
   "metadata": {},
   "outputs": [],
   "source": []
  }
 ],
 "metadata": {
  "kernelspec": {
   "display_name": "Python 3 (ipykernel)",
   "language": "python",
   "name": "python3"
  },
  "language_info": {
   "codemirror_mode": {
    "name": "ipython",
    "version": 3
   },
   "file_extension": ".py",
   "mimetype": "text/x-python",
   "name": "python",
   "nbconvert_exporter": "python",
   "pygments_lexer": "ipython3",
   "version": "3.11.6"
  }
 },
 "nbformat": 4,
 "nbformat_minor": 5
}
